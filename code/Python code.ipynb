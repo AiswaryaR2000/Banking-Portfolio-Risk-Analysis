{
 "cells": [
  {
   "cell_type": "code",
   "execution_count": 13,
   "id": "2efacc61-d2f1-416a-8d37-0dccb4c4604c",
   "metadata": {},
   "outputs": [],
   "source": [
    "import pandas as pd\n",
    "import numpy as np\n",
    "import matplotlib.pyplot as plt\n",
    "import warnings\n",
    "warnings.filterwarnings('ignore')"
   ]
  },
  {
   "cell_type": "code",
   "execution_count": 53,
   "id": "36b30a94-c80b-4169-9ec1-c6ed72bc6c9b",
   "metadata": {},
   "outputs": [
    {
     "name": "stdout",
     "output_type": "stream",
     "text": [
      "\n",
      "Loading the loan dataset\n",
      "Successfully loaded your dataset!\n",
      "Loaded portfolio: 1,000 loans worth $151M\n"
     ]
    }
   ],
   "source": [
    "# STEP 1: Load the Dataset\n",
    "print(\"\\nLoading the loan dataset\")\n",
    "\n",
    "# Load dataset \n",
    "try:\n",
    "    df = pd.read_csv('canadian_loan_portfolio.csv')  \n",
    "    print(f\"Successfully loaded your dataset!\")\n",
    "except FileNotFoundError:\n",
    "    print(\"Dataset file not found. Please ensure the file is in the same folder\")\n",
    "    exit()\n",
    "\n",
    "print(f\"Loaded portfolio: {len(df):,} loans worth ${df['loan_amount'].sum()/1e6:.0f}M\")"
   ]
  },
  {
   "cell_type": "code",
   "execution_count": 61,
   "id": "fa10c336-3443-4944-892a-3033dd6b02df",
   "metadata": {},
   "outputs": [
    {
     "name": "stdout",
     "output_type": "stream",
     "text": [
      "\n",
      "Dataset Statistics:\n",
      "Credit Score Range: 355.0 - 850.0 (avg: 655)\n",
      "Income Range: $20,000.0 - $188,986.5 (avg: $40,787)\n",
      "Loan Amount Range: $5,320 - $299,150 (avg: $151,166)\n",
      "\n",
      "Loan Type Distribution:\n",
      "loan_type\n",
      "Mortgage       422\n",
      "Auto           299\n",
      "Personal       186\n",
      "Credit Line     93\n",
      "Name: count, dtype: int64\n",
      "\n",
      "Loan Status Distribution:\n",
      "loan_status\n",
      "Current              789\n",
      "Late (30-59 days)    100\n",
      "Charged Off           63\n",
      "Late (60+ days)       48\n",
      "Name: count, dtype: int64\n",
      "\n",
      "Province Distribution:\n",
      "province\n",
      "ON    407\n",
      "QC    207\n",
      "AB    147\n",
      "BC    146\n",
      "SK     48\n",
      "MB     45\n",
      "Name: count, dtype: int64\n"
     ]
    }
   ],
   "source": [
    "# SHOW INFORMATION FROM DATASET\n",
    "print(f\"\\nDataset Statistics:\")\n",
    "print(f\"Credit Score Range: {df['credit_score'].min()} - {df['credit_score'].max()} (avg: {df['credit_score'].mean():.0f})\")\n",
    "print(f\"Income Range: ${df['annual_income'].min():,} - ${df['annual_income'].max():,} (avg: ${df['annual_income'].mean():,.0f})\")\n",
    "print(f\"Loan Amount Range: ${df['loan_amount'].min():,} - ${df['loan_amount'].max():,} (avg: ${df['loan_amount'].mean():,.0f})\")\n",
    "\n",
    "print(f\"\\nLoan Type Distribution:\")\n",
    "print(df['loan_type'].value_counts())\n",
    "\n",
    "print(f\"\\nLoan Status Distribution:\")\n",
    "print(df['loan_status'].value_counts())\n",
    "\n",
    "print(f\"\\nProvince Distribution:\")\n",
    "print(df['province'].value_counts())"
   ]
  },
  {
   "cell_type": "code",
   "execution_count": 63,
   "id": "ecd8a7b0-d13e-472f-a398-f350f0d2b74b",
   "metadata": {},
   "outputs": [
    {
     "name": "stdout",
     "output_type": "stream",
     "text": [
      "\n",
      "Missing Values Found:\n",
      "loan_id              0\n",
      "applicant_name       0\n",
      "credit_score        40\n",
      "annual_income        0\n",
      "loan_amount          0\n",
      "debt_to_income       0\n",
      "employment_years     0\n",
      "loan_type            0\n",
      "loan_status          0\n",
      "province             0\n",
      "application_date     0\n",
      "dtype: int64\n",
      "Missing values handled\n"
     ]
    }
   ],
   "source": [
    "# Check for missing values\n",
    "if df.isnull().sum().sum() > 0:\n",
    "    print(f\"\\nMissing Values Found:\")\n",
    "    print(df.isnull().sum())\n",
    "    # Fill missing values if any\n",
    "    df = df.fillna(df.median(numeric_only=True))\n",
    "    print(\"Missing values handled\")"
   ]
  },
  {
   "cell_type": "code",
   "execution_count": 65,
   "id": "4ed4afe5-f103-4dcc-a8ad-afc98cdc9151",
   "metadata": {},
   "outputs": [
    {
     "name": "stdout",
     "output_type": "stream",
     "text": [
      "\n",
      "Step 2: Calculating Basel III risk metrics\n"
     ]
    }
   ],
   "source": [
    "# STEP 2: Calculate Basel III Risk Metrics\n",
    "print(\"\\nStep 2: Calculating Basel III risk metrics\")\n",
    "\n",
    "# Convert existing 'Charged Off' to default indicator\n",
    "df['current_default'] = (df['loan_status'] == 'Charged Off').astype(int)\n",
    "\n",
    "# Calculate Probability of Default using Basel III approach\n",
    "def calculate_basel_pd(row):\n",
    "    \"\"\"Calculate PD using the data's risk factors\"\"\"\n",
    "    # Credit score factor (higher score = lower PD)\n",
    "    credit_factor = max(0, (800 - row['credit_score']) / 500)\n",
    "    \n",
    "    # Debt-to-income factor  \n",
    "    dti_factor = min(row['debt_to_income'], 0.8)\n",
    "    \n",
    "    # Employment stability factor\n",
    "    employment_factor = max(0, (15 - row['employment_years']) / 15)\n",
    "    \n",
    "    # Combine factors (Basel III weighted approach)\n",
    "    pd_score = (credit_factor * 0.5 + dti_factor * 0.3 + employment_factor * 0.2)\n",
    "    \n",
    "    # Convert to realistic PD range (0.5% to 30%)\n",
    "    return max(0.005, min(0.30, pd_score * 0.4))\n",
    "\n",
    "df['probability_of_default'] = df.apply(calculate_basel_pd, axis=1)"
   ]
  },
  {
   "cell_type": "code",
   "execution_count": 67,
   "id": "01d2e4f0-33c0-408c-a177-4bd0ad682961",
   "metadata": {},
   "outputs": [
    {
     "name": "stdout",
     "output_type": "stream",
     "text": [
      "Average default probability: 15.43%\n",
      "Total expected loss: $9.2M\n",
      "Expected loss rate: 6.40%\n",
      "Total Risk-Weighted Assets: $93M\n"
     ]
    }
   ],
   "source": [
    "# Loss Given Default by loan type (Basel III regulatory rates)\n",
    "lgd_rates = {\n",
    "    'Mortgage': 0.25,      # Secured by property\n",
    "    'Auto': 0.40,          # Secured by vehicle  \n",
    "    'Personal': 0.65,      # Unsecured\n",
    "    'Credit Line': 0.70    # Unsecured revolving\n",
    "}\n",
    "df['loss_given_default'] = df['loan_type'].map(lgd_rates)\n",
    "\n",
    "# Handle any loan types not in the mapping\n",
    "if df['loss_given_default'].isnull().any():\n",
    "    df['loss_given_default'] = df['loss_given_default'].fillna(0.50)  # Default LGD\n",
    "\n",
    "# Exposure at Default (Basel III standard = 95% of loan amount)\n",
    "df['exposure_at_default'] = df['loan_amount'] * 0.95\n",
    "\n",
    "# Expected Loss = PD × LGD × EAD (Core Basel III formula)\n",
    "df['expected_loss'] = df['probability_of_default'] * df['loss_given_default'] * df['exposure_at_default']\n",
    "\n",
    "# Risk-Weighted Assets (Basel III)\n",
    "rwa_weights = {'Mortgage': 0.35, 'Auto': 0.75, 'Personal': 1.0, 'Credit Line': 1.0}\n",
    "df['risk_weight'] = df['loan_type'].map(rwa_weights).fillna(1.0)\n",
    "df['risk_weighted_assets'] = df['exposure_at_default'] * df['risk_weight']\n",
    "\n",
    "print(f\"Average default probability: {df['probability_of_default'].mean():.2%}\")\n",
    "print(f\"Total expected loss: ${df['expected_loss'].sum()/1e6:.1f}M\")\n",
    "print(f\"Expected loss rate: {df['expected_loss'].sum()/df['exposure_at_default'].sum():.2%}\")\n",
    "print(f\"Total Risk-Weighted Assets: ${df['risk_weighted_assets'].sum()/1e6:.0f}M\")"
   ]
  },
  {
   "cell_type": "code",
   "execution_count": 69,
   "id": "36c9ad6b-17ce-4605-b856-06aaf7ecf24f",
   "metadata": {},
   "outputs": [
    {
     "name": "stdout",
     "output_type": "stream",
     "text": [
      "\n",
      "Applying economic stress test to the portfolio\n",
      "Scenario: 5% unemployment spike + 3% interest rate increase\n"
     ]
    }
   ],
   "source": [
    "# STEP 3: STRESS TESTING - Economic Downturn\n",
    "print(\"\\nApplying economic stress test to the portfolio\")\n",
    "print(\"Scenario: 5% unemployment spike + 3% interest rate increase\")\n",
    "\n",
    "# Create stressed version of the data\n",
    "df_stress = df.copy()\n",
    "\n",
    "# Stress parameters \n",
    "unemployment_shock = 0.05  # 5% unemployment increase\n",
    "interest_rate_shock = 0.03  # 3% interest rate increase\n",
    "\n",
    "# Calculate stress multiplier for PD (research-based)\n",
    "pd_stress_multiplier = 1 + (unemployment_shock * 15) + (interest_rate_shock * 10)\n",
    "\n",
    "# Apply stress to the PD calculations\n",
    "df_stress['stressed_pd'] = df_stress['probability_of_default'] * pd_stress_multiplier\n",
    "df_stress['stressed_pd'] = df_stress['stressed_pd'].clip(0.005, 0.85)  # Realistic bounds"
   ]
  },
  {
   "cell_type": "code",
   "execution_count": 71,
   "id": "e9dd5b49-5037-4a85-b089-b617244bce99",
   "metadata": {},
   "outputs": [
    {
     "name": "stdout",
     "output_type": "stream",
     "text": [
      "Stressed default probability: 31.64%\n",
      "Stressed expected loss: $27.9M\n"
     ]
    }
   ],
   "source": [
    "# Stress impact on LGD (asset values decline)\n",
    "lgd_stress_increase = 0.20  # 20% higher LGD during severe downturns\n",
    "df_stress['stressed_lgd'] = df_stress['loss_given_default'] + lgd_stress_increase\n",
    "df_stress['stressed_lgd'] = df_stress['stressed_lgd'].clip(0.1, 0.9)\n",
    "\n",
    "# Calculate stressed expected loss\n",
    "df_stress['stressed_expected_loss'] = (df_stress['stressed_pd'] * \n",
    "                                      df_stress['stressed_lgd'] * \n",
    "                                      df_stress['exposure_at_default'])\n",
    "\n",
    "# Additional capital requirement\n",
    "df_stress['additional_capital_needed'] = df_stress['stressed_expected_loss'] - df_stress['expected_loss']\n",
    "\n",
    "print(f\"Stressed default probability: {df_stress['stressed_pd'].mean():.2%}\")\n",
    "print(f\"Stressed expected loss: ${df_stress['stressed_expected_loss'].sum()/1e6:.1f}M\")\n"
   ]
  },
  {
   "cell_type": "code",
   "execution_count": 73,
   "id": "567e4af3-ac7a-4d79-a342-7c900ba0aba0",
   "metadata": {},
   "outputs": [
    {
     "name": "stdout",
     "output_type": "stream",
     "text": [
      "BASEL III STRESS TEST RESULTS \n",
      "----------------------------------------------------------------------\n"
     ]
    }
   ],
   "source": [
    "# STEP 4: Comprehensive Analysis Report\n",
    "print(\"BASEL III STRESS TEST RESULTS \");\n",
    "print(\"-\"*70)\n",
    "\n",
    "# Calculate key metrics from the data\n",
    "total_exposure = df['exposure_at_default'].sum() / 1e6\n",
    "base_loss = df['expected_loss'].sum() / 1e6\n",
    "stress_loss = df_stress['stressed_expected_loss'].sum() / 1e6\n",
    "additional_capital = df_stress['additional_capital_needed'].sum() / 1e6\n",
    "loss_multiplier = stress_loss / base_loss if base_loss > 0 else 0\n",
    "current_defaults = df['current_default'].sum()"
   ]
  },
  {
   "cell_type": "code",
   "execution_count": 75,
   "id": "4964b0d9-e5ab-42a4-aa6e-1364a2537ae3",
   "metadata": {},
   "outputs": [
    {
     "name": "stdout",
     "output_type": "stream",
     "text": [
      "\n",
      "SUMMARY:\n",
      "Total Loans: 1,000\n",
      "Total Exposure: $144M\n",
      "Current Defaults: 63 (6.3%)\n",
      "Provinces: 6 (AB, BC, MB, ON, QC, SK)\n",
      "Loan Types: Mortgage, Auto, Personal, Credit Line\n",
      "Date Range: 2020-01-01 to 2022-09-26\n",
      "\n",
      "BASEL III RISK ANALYSIS:\n",
      "Average PD (Normal):     15.43%\n",
      "Average PD (Stressed):   31.64%\n",
      "Average LGD (Normal):    41.1%\n",
      "Average LGD (Stressed):  61.1%\n",
      "Total RWA:               $93M\n",
      "\n",
      "STRESS TEST IMPACT:\n",
      "Normal Expected Loss:    $9.2M (6.40% of exposure)\n",
      "Stressed Expected Loss:  $27.9M (19.44% of exposure)\n",
      "Additional Loss Risk:    $18.7M (204% increase)\n",
      "Capital Buffer Needed:   $18.7M\n"
     ]
    }
   ],
   "source": [
    "print(f\"\\nSUMMARY:\")\n",
    "print(f\"Total Loans: {len(df):,}\")\n",
    "print(f\"Total Exposure: ${total_exposure:.0f}M\")\n",
    "print(f\"Current Defaults: {current_defaults:,} ({current_defaults/len(df):.1%})\")\n",
    "print(f\"Provinces: {df['province'].nunique()} ({', '.join(sorted(df['province'].unique()))})\")\n",
    "print(f\"Loan Types: {', '.join(df['loan_type'].unique())}\")\n",
    "print(f\"Date Range: {df['application_date'].min()} to {df['application_date'].max()}\")\n",
    "\n",
    "print(f\"\\nBASEL III RISK ANALYSIS:\")\n",
    "print(f\"Average PD (Normal):     {df['probability_of_default'].mean():.2%}\")\n",
    "print(f\"Average PD (Stressed):   {df_stress['stressed_pd'].mean():.2%}\")\n",
    "print(f\"Average LGD (Normal):    {df['loss_given_default'].mean():.1%}\")\n",
    "print(f\"Average LGD (Stressed):  {df_stress['stressed_lgd'].mean():.1%}\")\n",
    "print(f\"Total RWA:               ${df['risk_weighted_assets'].sum()/1e6:.0f}M\")\n",
    "\n",
    "print(f\"\\nSTRESS TEST IMPACT:\")\n",
    "print(f\"Normal Expected Loss:    ${base_loss:.1f}M ({base_loss/total_exposure:.2%} of exposure)\")\n",
    "print(f\"Stressed Expected Loss:  ${stress_loss:.1f}M ({stress_loss/total_exposure:.2%} of exposure)\")\n",
    "print(f\"Additional Loss Risk:    ${stress_loss-base_loss:.1f}M ({(loss_multiplier-1)*100:.0f}% increase)\")\n",
    "print(f\"Capital Buffer Needed:   ${additional_capital:.1f}M\")"
   ]
  },
  {
   "cell_type": "code",
   "execution_count": 77,
   "id": "2f31214e-f225-4c3b-967a-d1babaff3222",
   "metadata": {},
   "outputs": [
    {
     "name": "stdout",
     "output_type": "stream",
     "text": [
      "\n",
      "IMPACT BY LOAN TYPE:\n",
      "Type         Count  Normal Loss  Stress Loss  Impact\n",
      "Mortgage     422    $2.3         $8.5         $  +6.2M\n",
      "Auto         299    $2.6         $7.9         $  +5.3M\n",
      "Personal     186    $2.8         $7.4         $  +4.6M\n",
      "Credit Line  93     $1.6         $4.1         $  +2.6M\n"
     ]
    }
   ],
   "source": [
    "# Analysis by loan type from the data\n",
    "print(f\"\\nIMPACT BY LOAN TYPE:\")\n",
    "print(f\"{'Type':<12} {'Count':<6} {'Normal Loss':<12} {'Stress Loss':<12} {'Impact'}\")\n",
    "for loan_type in df['loan_type'].unique():\n",
    "    mask = df['loan_type'] == loan_type\n",
    "    count = mask.sum()\n",
    "    normal_loss = df[mask]['expected_loss'].sum() / 1e6\n",
    "    stress_loss_type = df_stress[mask]['stressed_expected_loss'].sum() / 1e6\n",
    "    impact = stress_loss_type - normal_loss\n",
    "    \n",
    "    print(f\"{loan_type:<12} {count:<6} ${normal_loss:<11.1f} ${stress_loss_type:<11.1f} ${impact:>+6.1f}M\")"
   ]
  },
  {
   "cell_type": "code",
   "execution_count": 79,
   "id": "546d3749-d4ed-4318-8364-f4770270f4d4",
   "metadata": {},
   "outputs": [
    {
     "name": "stdout",
     "output_type": "stream",
     "text": [
      "\n",
      "IMPACT BY PROVINCE:\n",
      "Province Loans  Normal     Stressed   Impact\n",
      "AB       147    $1.3       $3.9       $  +2.6M\n",
      "BC       146    $1.4       $4.1       $  +2.7M\n",
      "MB       45     $0.4       $1.1       $  +0.8M\n",
      "ON       407    $3.8       $11.6      $  +7.8M\n",
      "QC       207    $1.9       $5.8       $  +3.9M\n",
      "SK       48     $0.4       $1.3       $  +0.9M\n"
     ]
    }
   ],
   "source": [
    "# Analysis by province from the data\n",
    "print(f\"\\nIMPACT BY PROVINCE:\")\n",
    "print(f\"{'Province':<8} {'Loans':<6} {'Normal':<10} {'Stressed':<10} {'Impact'}\")\n",
    "for province in sorted(df['province'].unique()):\n",
    "    mask = df['province'] == province\n",
    "    count = mask.sum()\n",
    "    normal = df[mask]['expected_loss'].sum() / 1e6\n",
    "    stressed = df_stress[mask]['stressed_expected_loss'].sum() / 1e6\n",
    "    impact = stressed - normal\n",
    "    \n",
    "    print(f\"{province:<8} {count:<6} ${normal:<9.1f} ${stressed:<9.1f} ${impact:>+6.1f}M\")"
   ]
  },
  {
   "cell_type": "code",
   "execution_count": 83,
   "id": "be590d15-aad9-4ac9-8162-5eb3e04908b3",
   "metadata": {},
   "outputs": [
    {
     "name": "stdout",
     "output_type": "stream",
     "text": [
      "\n",
      "Creating charts from the data\n"
     ]
    },
    {
     "data": {
      "image/png": "[encoded data removed]",
      "text/plain": [
       "<Figure size 1600x1000 with 4 Axes>"
      ]
     },
     "metadata": {},
     "output_type": "display_data"
    }
   ],
   "source": [
    "# STEP 5: Create Professional Charts\n",
    "print(f\"\\nCreating charts from the data\")\n",
    "\n",
    "fig, axes = plt.subplots(2, 2, figsize=(16, 10))\n",
    "fig.suptitle(f'Basel III Stress Test Results', fontsize=14, fontweight='bold')\n",
    "\n",
    "# Chart 1: Expected Loss Comparison\n",
    "scenarios = ['Normal\\nEconomy', 'Economic\\nStress']\n",
    "losses = [base_loss, stress_loss]\n",
    "colors = ['lightgreen', 'red']\n",
    "bars = axes[0,0].bar(scenarios, losses, color=colors)\n",
    "axes[0,0].set_title('Expected Loss: Normal vs Stressed')\n",
    "axes[0,0].set_ylabel('Expected Loss ($M)')\n",
    "for i, (bar, value) in enumerate(zip(bars, losses)):\n",
    "    axes[0,0].text(bar.get_x() + bar.get_width()/2, value + max(losses)*0.02, \n",
    "                   f'${value:.1f}M', ha='center', fontweight='bold')\n",
    "\n",
    "# Chart 2: Impact by Loan Type \n",
    "loan_types = df['loan_type'].unique()\n",
    "normal_by_type = [df[df['loan_type']==lt]['expected_loss'].sum()/1e6 for lt in loan_types]\n",
    "stress_by_type = [df_stress[df_stress['loan_type']==lt]['stressed_expected_loss'].sum()/1e6 for lt in loan_types]\n",
    "\n",
    "x = np.arange(len(loan_types))\n",
    "width = 0.35\n",
    "axes[0,1].bar(x - width/2, normal_by_type, width, label='Normal', color='lightgreen')\n",
    "axes[0,1].bar(x + width/2, stress_by_type, width, label='Stressed', color='red')\n",
    "axes[0,1].set_title('Expected Loss by Loan Type')\n",
    "axes[0,1].set_ylabel('Expected Loss ($M)')\n",
    "axes[0,1].set_xticks(x)\n",
    "axes[0,1].set_xticklabels(loan_types)\n",
    "axes[0,1].legend()\n",
    "\n",
    "# Chart 3: Default Rate Distribution \n",
    "axes[1,0].hist(df['probability_of_default']*100, bins=30, alpha=0.7, \n",
    "               label='Normal PD', color='lightgreen', density=True)\n",
    "axes[1,0].hist(df_stress['stressed_pd']*100, bins=30, alpha=0.7, \n",
    "               label='Stressed PD', color='red', density=True)\n",
    "axes[1,0].set_title('Default Probability Distribution')\n",
    "axes[1,0].set_xlabel('Default Probability (%)')\n",
    "axes[1,0].set_ylabel('Density')\n",
    "axes[1,0].legend()\n",
    "\n",
    "# Chart 4: Provincial Impact \n",
    "provinces = sorted(df['province'].unique())\n",
    "provincial_impact = [df_stress[df_stress['province']==p]['additional_capital_needed'].sum()/1e6 \n",
    "                    for p in provinces]\n",
    "bars = axes[1,1].bar(provinces, provincial_impact, color='orange')\n",
    "axes[1,1].set_title('Additional Capital Needed by Province')\n",
    "axes[1,1].set_ylabel('Additional Capital ($M)')\n",
    "axes[1,1].set_xlabel('Province')\n",
    "\n",
    "plt.tight_layout()\n",
    "plt.show()"
   ]
  },
  {
   "cell_type": "code",
   "execution_count": 87,
   "id": "b85d8f8e-a026-4156-b325-c3008a1cc470",
   "metadata": {},
   "outputs": [
    {
     "name": "stdout",
     "output_type": "stream",
     "text": [
      "\n",
      "Exporting enhanced analysis\n"
     ]
    }
   ],
   "source": [
    "# STEP 6: Export Enhanced Results\n",
    "print(f\"\\nExporting enhanced analysis\")\n",
    "\n",
    "# Create enhanced version of the dataset with Basel III calculations\n",
    "enhanced_df = df[['loan_id', 'applicant_name', 'credit_score', 'annual_income', 'loan_amount', \n",
    "                  'debt_to_income', 'employment_years', 'loan_type', 'loan_status', 'province', \n",
    "                  'application_date']].copy()\n",
    "\n",
    "# Add Basel III metrics\n",
    "enhanced_df['probability_of_default'] = df['probability_of_default']\n",
    "enhanced_df['loss_given_default'] = df['loss_given_default']\n",
    "enhanced_df['exposure_at_default'] = df['exposure_at_default']\n",
    "enhanced_df['expected_loss'] = df['expected_loss']\n",
    "enhanced_df['risk_weighted_assets'] = df['risk_weighted_assets']\n",
    "enhanced_df['stressed_pd'] = df_stress['stressed_pd']\n",
    "enhanced_df['stressed_expected_loss'] = df_stress['stressed_expected_loss']\n",
    "enhanced_df['additional_capital_needed'] = df_stress['additional_capital_needed']\n",
    "\n",
    "enhanced_df.to_csv('basel_enhanced_portfolio_analysis.csv', index=False)"
   ]
  },
  {
   "cell_type": "code",
   "execution_count": 91,
   "id": "87a6b82d-7e8d-4dce-b77f-41faf641af8d",
   "metadata": {},
   "outputs": [],
   "source": [
    "# Create executive summary\n",
    "summary = pd.DataFrame({\n",
    "    'Metric': [\n",
    "        'Portfolio Size (Loans)',\n",
    "        'Total Exposure ($M)',\n",
    "        'Provinces Analyzed', \n",
    "        'Loan Types',\n",
    "        'Current Default Rate (%)',\n",
    "        'Stress Scenario Applied',\n",
    "        'Normal Expected Loss ($M)',\n",
    "        'Stressed Expected Loss ($M)',\n",
    "        'Loss Amplification (%)',\n",
    "        'Additional Capital Required ($M)',\n",
    "        'Average PD - Normal (%)',\n",
    "        'Average PD - Stressed (%)',\n",
    "        'Portfolio Loss Rate - Normal (%)',\n",
    "        'Portfolio Loss Rate - Stressed (%)',\n",
    "        'Total Risk-Weighted Assets ($M)'\n",
    "    ],\n",
    "    'Value': [\n",
    "        f\"{len(df):,}\",\n",
    "        f\"{total_exposure:.0f}\",\n",
    "        f\"{df['province'].nunique()} provinces\",\n",
    "        f\"{', '.join(df['loan_type'].unique())}\",\n",
    "        f\"{(current_defaults/len(df))*100:.1f}%\",\n",
    "        \"5% Unemployment + 3% Interest Rate Increase\",\n",
    "        f\"{base_loss:.1f}\",\n",
    "        f\"{stress_loss:.1f}\",\n",
    "        f\"{(loss_multiplier-1)*100:.0f}%\",\n",
    "        f\"{additional_capital:.1f}\",\n",
    "        f\"{df['probability_of_default'].mean()*100:.2f}%\",\n",
    "        f\"{df_stress['stressed_pd'].mean()*100:.2f}%\",\n",
    "        f\"{(base_loss/total_exposure)*100:.2f}%\",\n",
    "        f\"{(stress_loss/total_exposure)*100:.2f}%\",\n",
    "        f\"{df['risk_weighted_assets'].sum()/1e6:.0f}\"\n",
    "    ]\n",
    "})\n",
    "summary.to_csv('executive_summary.csv', index=False)"
   ]
  },
  {
   "cell_type": "code",
   "execution_count": null,
   "id": "31397d30-f04c-4280-a27d-8e95b7adc8ef",
   "metadata": {},
   "outputs": [],
   "source": []
  }
 ],
 "metadata": {
  "kernelspec": {
   "display_name": "Python [conda env:base] *",
   "language": "python",
   "name": "conda-base-py"
  },
  "language_info": {
   "codemirror_mode": {
    "name": "ipython",
    "version": 3
   },
   "file_extension": ".py",
   "mimetype": "text/x-python",
   "name": "python",
   "nbconvert_exporter": "python",
   "pygments_lexer": "ipython3",
   "version": "3.12.7"
  }
 },
 "nbformat": 4,
 "nbformat_minor": 5
}
